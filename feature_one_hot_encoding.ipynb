{
  "cells": [
    {
      "cell_type": "markdown",
      "metadata": {
        "id": "view-in-github",
        "colab_type": "text"
      },
      "source": [
        "<a href=\"https://colab.research.google.com/github/changyuhsin1999/Recommender_RL/blob/main/feature_one_hot_encoding.ipynb\" target=\"_parent\"><img src=\"https://colab.research.google.com/assets/colab-badge.svg\" alt=\"Open In Colab\"/></a>"
      ]
    },
    {
      "cell_type": "code",
      "source": [
        "from google.colab import drive\n",
        "drive.mount('/content/drive')\n",
        "PROJ_DIR = '/content/drive/MyDrive/RL_HW3/SA2C_code/Kaggle'   ## give your drive folder location\n",
        "# change current directory after mounting\n",
        "%cd $PROJ_DIR\n",
        "! ls"
      ],
      "metadata": {
        "colab": {
          "base_uri": "https://localhost:8080/"
        },
        "id": "9Gc2wkmQtMhn",
        "outputId": "9ce4e809-83cd-4a3f-92e5-ac0049d78ea5"
      },
      "execution_count": null,
      "outputs": [
        {
          "output_type": "stream",
          "name": "stdout",
          "text": [
            "Mounted at /content/drive\n",
            "/content/drive/MyDrive/RL_HW3/SA2C_code/Kaggle\n",
            "data\t\t\t\tpop.py\t\t\tSA2C_new_feature.py   SNQN.py\n",
            "DQN_NS.py\t\t\tpreprocess_kaggle.py\tSA2C_new.py\t      split_data.py\n",
            "feature_one_hot_encoding.ipynb\t__pycache__\t\tSA2C.py\t\t      test.py\n",
            "item_properties_part1.csv\treplay_buffer.py\tSASRecModules.py      utility.py\n",
            "item_properties_part2.csv\treport_SA2C.txt\t\tSNQN_new_features.py\n",
            "NextItNetModules.py\t\tSA2C_new_feature_50.py\tSNQN_new.py\n"
          ]
        }
      ]
    },
    {
      "cell_type": "code",
      "execution_count": null,
      "metadata": {
        "id": "tmLhwYQTs_aV"
      },
      "outputs": [],
      "source": [
        "import pandas as pd\n",
        "item_features_part_1 = pd.read_csv(\"/content/drive/MyDrive/RL_HW3/SA2C_code/Kaggle/item_properties_part1.csv\")\n",
        "# We don't want to evaluate feature \"available\" because this property doesn't give us insights about the feature#\n",
        "item_features_part_1 = item_features_part_1[item_features_part_1.property != \"available\"]\n",
        "# Next, we would replace \"categoryid\" in property with the corresponded value(feature)\n",
        "item_features_part_1.loc[item_features_part_1['property'] == \"categoryid\", 'property'] = item_features_part_1['value']\n",
        "# Next, we would like to consider only the static features, which means the value does not change overtime\n",
        "item_with_static_feature_1 = item_features_part_1[~item_features_part_1['value'].str.contains(' |n')]\n",
        "# Do exact step for item_features_part_2 data\n",
        "item_features_part_2 = pd.read_csv(\"/content/drive/MyDrive/RL_HW3/SA2C_code/Kaggle/item_properties_part2.csv\")\n",
        "item_features_part_2 = item_features_part_2[item_features_part_2.property != \"available\"]\n",
        "item_features_part_2.loc[item_features_part_2['property'] == \"categoryid\", 'property'] = item_features_part_2['value']\n",
        "item_with_static_feature_2 = item_features_part_2[~item_features_part_2['value'].str.contains(' |n')]\n",
        "item_features_full = pd.concat([item_with_static_feature_1,item_with_static_feature_2], ignore_index=True)"
      ]
    },
    {
      "cell_type": "code",
      "execution_count": null,
      "metadata": {
        "id": "Wj1DAWMes_aX"
      },
      "outputs": [],
      "source": [
        "#Drop duplicates\n",
        "sorted_events = pd.read_csv(\"/content/drive/MyDrive/RL_HW3/SA2C_code/Kaggle/data/sorted_events.csv\")\n",
        "item_features_full = item_features_full[item_features_full[\"itemid\"].isin(sorted_events[\"item_id\"].unique().tolist())].drop_duplicates()\n",
        "item_features_full = item_features_full.drop([\"timestamp\"], axis=1).drop_duplicates()"
      ]
    },
    {
      "cell_type": "code",
      "source": [
        "top_properties = item_features_full[\"property\"].value_counts().head(50).index.tolist() # take top 50 properties\n",
        "one_hot_encoded = pd.DataFrame()\n",
        "itemids = []\n",
        "sorted_events_item_list = sorted_events.item_id.unique()\n",
        "sorted_events_item_list.sort()\n",
        "feature_item_list = item_features_full[\"itemid\"].unique()"
      ],
      "metadata": {
        "id": "XdY0RzzlHg0R"
      },
      "execution_count": null,
      "outputs": []
    },
    {
      "cell_type": "code",
      "source": [
        "import numpy as np\n",
        "for item in sorted_events_item_list:\n",
        "\n",
        "    if item not in feature_item_list:\n",
        "        one_hot_encoded = pd.concat(\n",
        "            [one_hot_encoded, pd.DataFrame(np.zeros(len(top_properties))).T],\n",
        "            ignore_index=True)\n",
        "        itemids.append(item)\n",
        "    else:\n",
        "        if item not in itemids:\n",
        "            item_properties = item_features_full[item_features_full[\"itemid\"] == item][\"property\"].unique()\n",
        "            one_hot_encoded = pd.concat([one_hot_encoded,pd.DataFrame([1 if x in item_properties else 0 for x in top_properties]).T,], ignore_index=True)\n",
        "            itemids.append(item)\n",
        "one_hot_encoded.columns = top_properties\n",
        "one_hot_encoded[\"itemid\"] = itemids"
      ],
      "metadata": {
        "id": "EJ7FLsEhI8qJ"
      },
      "execution_count": null,
      "outputs": []
    },
    {
      "cell_type": "code",
      "source": [
        "one_hot_encoded = one_hot_encoded.drop([\"itemid\"], axis = 1)\n",
        "one_hot_encoded.to_csv('item_onehotencode_new.csv', index=False)"
      ],
      "metadata": {
        "id": "GjRtnMiR1q6k"
      },
      "execution_count": null,
      "outputs": []
    }
  ],
  "metadata": {
    "kernelspec": {
      "display_name": "Python 3",
      "name": "python3"
    },
    "language_info": {
      "codemirror_mode": {
        "name": "ipython",
        "version": 3
      },
      "file_extension": ".py",
      "mimetype": "text/x-python",
      "name": "python",
      "nbconvert_exporter": "python",
      "pygments_lexer": "ipython3",
      "version": "3.9.7"
    },
    "orig_nbformat": 4,
    "colab": {
      "provenance": [],
      "include_colab_link": true
    }
  },
  "nbformat": 4,
  "nbformat_minor": 0
}